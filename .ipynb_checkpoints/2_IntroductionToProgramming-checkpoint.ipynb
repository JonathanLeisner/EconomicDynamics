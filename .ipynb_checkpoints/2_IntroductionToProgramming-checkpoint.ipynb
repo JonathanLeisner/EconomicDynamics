{
 "cells": [
  {
   "cell_type": "markdown",
   "metadata": {},
   "source": [
    "# 2: Introduction to programming"
   ]
  },
  {
   "cell_type": "markdown",
   "metadata": {},
   "source": [
    "This collects and runs some of the examples from *Economic Dynamics: Theory and computation* (J. Starchuski, 2009). *.py* functions are simply forked from https://github.com/jstac/edtc-code/tree/master/python_code. To illustrate a couple of codes, we start importing some basic libraries"
   ]
  },
  {
   "cell_type": "code",
   "execution_count": 5,
   "metadata": {},
   "outputs": [],
   "source": [
    "import math # enables simple math operations.\n",
    "import numpy as np #enables use matlab-like matrix objects. "
   ]
  },
  {
   "cell_type": "markdown",
   "metadata": {},
   "source": [
    "## Classes:"
   ]
  },
  {
   "cell_type": "markdown",
   "metadata": {},
   "source": [
    "We can work with classes (and user-defined functions in general), by either calling them from a library, or (for learning purposes) use the python magic function %load:\n",
    "\n",
    "Executing a cell with only the line \"%load pyfunctions\\\\polyclass.py\" loads the lines from the file. "
   ]
  },
  {
   "cell_type": "markdown",
   "metadata": {},
   "source": [
    "A few remarks:\n",
    "\n",
    "* A specialed method is called *initialize* or (\\_\\_init\\_\\_): This *constructor method* creates an instance of the class. The 'self' is a python syntax used in the class, as relating to the instance of the class. \n",
    "* evaluate and differentiate are methods coupled to the class. evaluate returns the value of polynomial specified with $x$ as inputs, over coefficients from 'coef' specified when initializing the class.\n",
    "\n",
    "Note here that the methods *evaluate* simply computes the polynomial value p(x). If we want to be able to use this syntax $p(x)$ instead of $p.evaluate(x)$, we can define a *callable* method (\\_\\_call\\_\\_):"
   ]
  },
  {
   "cell_type": "code",
   "execution_count": 57,
   "metadata": {},
   "outputs": [],
   "source": [
    "# %load pyfunctions\\\\polyclass.py\n",
    "class Polynomial:\n",
    "\n",
    "    def __init__(self, coef):\n",
    "        \"\"\"Creates an instance p of the Polynomial class,\n",
    "        where p(x) = coef[0] x^0 + ... + coef[N] x^N.\"\"\"\n",
    "        self.coef = coef\n",
    "\n",
    "    def evaluate(self, x):\n",
    "        y = sum(a*x**i for i, a in enumerate(self.coef))\n",
    "        return y\n",
    "\n",
    "    def __call__(self,x):\n",
    "        y = sum(a*x**i for i, a in enumerate(self.coef))\n",
    "        return y\n",
    "    \n",
    "    def differentiate(self):\n",
    "        new_coef = [i*a for i, a in enumerate(self.coef)]\n",
    "        # Remove the first element, which is zero\n",
    "        del new_coef[0]  \n",
    "        # And reset coefficients data to new values\n",
    "        self.coef = new_coef"
   ]
  },
  {
   "cell_type": "markdown",
   "metadata": {},
   "source": [
    "Or calling them using the import:"
   ]
  },
  {
   "cell_type": "code",
   "execution_count": 49,
   "metadata": {},
   "outputs": [],
   "source": [
    "import pyfunctions.polyclass as userfunc"
   ]
  },
  {
   "cell_type": "markdown",
   "metadata": {},
   "source": [
    "Using the class polynomial now works as:"
   ]
  },
  {
   "cell_type": "code",
   "execution_count": 59,
   "metadata": {},
   "outputs": [
    {
     "name": "stdout",
     "output_type": "stream",
     "text": [
      "6 6 [2, 1, 3] None [1, 6] 7\n"
     ]
    }
   ],
   "source": [
    "# random data:\n",
    "data = [2, 1, 3]\n",
    "p = Polynomial(data) # create instance\n",
    "print(p.evaluate(1), # EVALUATE APPROACH,\n",
    "      p(1), # MAKING THE EVALUATE FUNCTION CALLABLE\n",
    "      p.coef, \n",
    "      p.differentiate(), \n",
    "      p.coef, \n",
    "      p.evaluate(1))"
   ]
  },
  {
   "cell_type": "markdown",
   "metadata": {},
   "source": [
    "or using the 'userfunc':"
   ]
  },
  {
   "cell_type": "code",
   "execution_count": 55,
   "metadata": {},
   "outputs": [],
   "source": [
    "p = userfunc.Polynomial(data)"
   ]
  }
 ],
 "metadata": {
  "kernelspec": {
   "display_name": "Python 3",
   "language": "python",
   "name": "python3"
  },
  "language_info": {
   "codemirror_mode": {
    "name": "ipython",
    "version": 3
   },
   "file_extension": ".py",
   "mimetype": "text/x-python",
   "name": "python",
   "nbconvert_exporter": "python",
   "pygments_lexer": "ipython3",
   "version": "3.7.3"
  },
  "widgets": {
   "application/vnd.jupyter.widget-state+json": {
    "state": {},
    "version_major": 2,
    "version_minor": 0
   }
  }
 },
 "nbformat": 4,
 "nbformat_minor": 4
}
